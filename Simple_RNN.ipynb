{
 "cells": [
  {
   "cell_type": "code",
   "execution_count": 28,
   "metadata": {},
   "outputs": [
    {
     "name": "stderr",
     "output_type": "stream",
     "text": [
      "Using TensorFlow backend.\n"
     ]
    }
   ],
   "source": [
    "import numpy as np\n",
    "np.random.seed(5)\n",
    "\n",
    "# Permite crear celda recurrente\n",
    "from keras.layers import Input, Dense, SimpleRNN \n",
    "from keras.models import Model\n",
    "# Crear y entrenar el modelo\n",
    "from keras.optimizers import SGD \n",
    "# Formato\n",
    "from keras.utils import to_categorical \n",
    "from keras import backend as K"
   ]
  },
  {
   "cell_type": "code",
   "execution_count": 33,
   "metadata": {},
   "outputs": [],
   "source": [
    "nombres = open('dinosaurios.txt').read()\n",
    "nombres = nombres.lower()\n",
    "nombres = nombres.replace('\\r','\\\\r').replace('\\n',' ')\n",
    "nombres = nombres.replace('}','')"
   ]
  },
  {
   "cell_type": "code",
   "execution_count": 34,
   "metadata": {},
   "outputs": [],
   "source": [
    "alfabeto = list(set(nombres))\n",
    "tam_datos, tam_alfabeto = len(nombres), len(alfabeto)"
   ]
  },
  {
   "cell_type": "markdown",
   "metadata": {},
   "source": [
    "Diccionario en el que se asigna a cada caracter del alfabeto un número (codificación)"
   ]
  },
  {
   "cell_type": "code",
   "execution_count": 35,
   "metadata": {},
   "outputs": [],
   "source": [
    "car_a_ind = { car:ind for ind,car in enumerate(sorted(alfabeto))}"
   ]
  },
  {
   "cell_type": "code",
   "execution_count": 36,
   "metadata": {},
   "outputs": [],
   "source": [
    "ind_a_car = { ind:car for ind,car in enumerate(sorted(alfabeto))}"
   ]
  },
  {
   "cell_type": "markdown",
   "metadata": {},
   "source": [
    "## Modelo RNN\n",
    "A continuación se implementara un RNN"
   ]
  },
  {
   "cell_type": "code",
   "execution_count": 37,
   "metadata": {},
   "outputs": [],
   "source": [
    "n_a = 25\n",
    "# Contenedores\n",
    "entrada = Input(shape=(None,tam_alfabeto))\n",
    "# Estado oculto\n",
    "a0 = Input(shape=(n_a,))"
   ]
  },
  {
   "cell_type": "code",
   "execution_count": 38,
   "metadata": {},
   "outputs": [],
   "source": [
    "celdas_recurrentes = SimpleRNN(n_a, activation='tanh', return_state = True )"
   ]
  },
  {
   "cell_type": "code",
   "execution_count": 39,
   "metadata": {},
   "outputs": [],
   "source": [
    "capa_salida = Dense(tam_alfabeto, activation='softmax')"
   ]
  },
  {
   "cell_type": "code",
   "execution_count": 41,
   "metadata": {},
   "outputs": [],
   "source": [
    "hs, _ = celdas_recurrentes(entrada, initial_state=a0)\n",
    "salida = []\n",
    "salida.append(capa_salida(hs))\n",
    "modelo = Model([entrada,a0], salida)\n",
    "\n",
    "opt = SGD(lr=0.05)\n",
    "modelo.compile(optimizer=opt, loss = 'categorical_crossentropy')"
   ]
  },
  {
   "cell_type": "code",
   "execution_count": 50,
   "metadata": {},
   "outputs": [],
   "source": [
    "with open('dinosaurios.txt') as f:\n",
    "    ejemplos = f.readlines()\n",
    "ejemplos = list(map( lambda x: x.replace(\"\\n\",\"\"), ejemplos))\n",
    "ejemplos = [x.lower().strip() for x in ejemplos]\n",
    "np.random.shuffle(ejemplos)"
   ]
  },
  {
   "cell_type": "code",
   "execution_count": null,
   "metadata": {},
   "outputs": [],
   "source": [
    "def train_generator():\n",
    "    while True:\n",
    "        ejemplo = ejemplos[np.random.randint(0,len(ejemplos))]\n",
    "        \n",
    "        X = [None] + [car_a_ind[c] for c in ejemplo]\n",
    "        Y = X[1:]  + [car_a_ind['\\n']]\n",
    "        \n",
    "        x = np.zeros((len(X), 1, tam_alfabeto))\n",
    "        onehot = to_categorical(Y,tam_alfabeto).reshape(len(X),tam_alfabeto)\n",
    "        \n",
    "        a = np.zeros((len(X), n_a))\n",
    "        \n",
    "        yield [x, a] , y"
   ]
  },
  {
   "cell_type": "code",
   "execution_count": 51,
   "metadata": {},
   "outputs": [],
   "source": [
    "BATCH_SIZE = 80\n",
    "NITS = 10000\n",
    "\n",
    "for j in range(NITS):\n",
    "    historia = modelo.fit_generator(train_generator(),\n",
    "                                   steps_per_epoch=BATCH_SIZE, epochs=1, verbose=0)\n",
    "    if j%1000 == 0:\n",
    "        print('\\n Iteracción: %d, Error: %f' % \n",
    "             (j, historia.history['loss'][0] + '\\n'))"
   ]
  },
  {
   "cell_type": "code",
   "execution_count": null,
   "metadata": {},
   "outputs": [],
   "source": [
    "def generar_nombre(modelo, car_a_ind, tam_alfabeto,n_a):\n",
    "    x = np.zeros((1,1,tam_alfabetom,))\n",
    "    a = np.zeros((1,n_a))\n",
    "    \n",
    "    nombre_generado = ''\n",
    "    fin_linea = '\\n'\n",
    "    car = -1\n",
    "    contador = 0\n",
    "\n"
   ]
  }
 ],
 "metadata": {
  "kernelspec": {
   "display_name": "Python 3",
   "language": "python",
   "name": "python3"
  },
  "language_info": {
   "codemirror_mode": {
    "name": "ipython",
    "version": 3
   },
   "file_extension": ".py",
   "mimetype": "text/x-python",
   "name": "python",
   "nbconvert_exporter": "python",
   "pygments_lexer": "ipython3",
   "version": "3.7.4"
  }
 },
 "nbformat": 4,
 "nbformat_minor": 2
}
