{
 "cells": [
  {
   "cell_type": "markdown",
   "metadata": {},
   "source": [
    "# Red recurrente en Keras\n",
    "Generar una red que tome unas secuencias de texto y sea capaz de generar unas nuevas secuencias de texto.\n",
    "Arquitectura que permite analizar secuencias, generando tambien hidden states"
   ]
  },
  {
   "cell_type": "markdown",
   "metadata": {},
   "source": [
    "El objetivo es que a tráves de cualquier caracter de entrada el RNN sea capaz de generar un caracter de salida que forme un nombre de dinosaurio"
   ]
  },
  {
   "cell_type": "code",
   "execution_count": 1,
   "metadata": {},
   "outputs": [
    {
     "name": "stderr",
     "output_type": "stream",
     "text": [
      "Using TensorFlow backend.\n"
     ]
    }
   ],
   "source": [
    "# Librerias\n",
    "import numpy as np\n",
    "np.random.seed(5)\n",
    "\n",
    "# Permiten crear celda recurrente\n",
    "from keras.layers import Input, Dense, SimpleRNN \n",
    "# Crear y entrenar el modelo\n",
    "from keras.models import Model\n",
    "from keras.optimizers import SGD \n",
    "# Formatos de entrada y salida\n",
    "from keras.utils import to_categorical \n",
    "from keras import backend as K"
   ]
  },
  {
   "cell_type": "code",
   "execution_count": 2,
   "metadata": {},
   "outputs": [],
   "source": [
    "# Cargar nombres de dinosaurios\n",
    "nombres = open('dinosaurios.txt').read()\n",
    "nombres = nombres.lower()\n",
    "# nombres = nombres.replace('\\r','\\\\r').replace('\\n',' ')\n",
    "nombres = nombres.replace('}','')"
   ]
  },
  {
   "cell_type": "code",
   "execution_count": 3,
   "metadata": {},
   "outputs": [],
   "source": [
    "# Set para contener caracteres únicos\n",
    "alfabeto = list(set(nombres))\n",
    "tam_datos, tam_alfabeto = len(nombres), len(alfabeto)"
   ]
  },
  {
   "cell_type": "markdown",
   "metadata": {},
   "source": [
    "## Formato OneHot\n",
    "Diccionario en el que se asigna a cada caracter del alfabeto un número (codificación), con el fin de que el modelo pueda leer los caracteres"
   ]
  },
  {
   "cell_type": "code",
   "execution_count": 4,
   "metadata": {},
   "outputs": [],
   "source": [
    "car_a_ind = { car:ind for ind,car in enumerate(sorted(alfabeto))}"
   ]
  },
  {
   "cell_type": "code",
   "execution_count": 5,
   "metadata": {},
   "outputs": [],
   "source": [
    "ind_a_car = { ind:car for ind,car in enumerate(sorted(alfabeto))}"
   ]
  },
  {
   "cell_type": "markdown",
   "metadata": {},
   "source": [
    "## Modelo RNN\n",
    "A continuación se implementara un RNN con hiden states, X y y"
   ]
  },
  {
   "cell_type": "code",
   "execution_count": 6,
   "metadata": {},
   "outputs": [],
   "source": [
    "n_a = 25\n",
    "# Contenedores\n",
    "entrada = Input(shape=(None,tam_alfabeto))\n",
    "# Estado oculto\n",
    "a0 = Input(shape=(n_a,))"
   ]
  },
  {
   "cell_type": "markdown",
   "metadata": {},
   "source": [
    "### Capa recurrente"
   ]
  },
  {
   "cell_type": "code",
   "execution_count": 7,
   "metadata": {},
   "outputs": [],
   "source": [
    "# n_a: Numeros de neuronas\n",
    "celdas_recurrentes = SimpleRNN(n_a, activation='tanh', return_state = True )"
   ]
  },
  {
   "cell_type": "markdown",
   "metadata": {},
   "source": [
    "### Capa de salida"
   ]
  },
  {
   "cell_type": "code",
   "execution_count": 8,
   "metadata": {},
   "outputs": [],
   "source": [
    "# 27 neuronas\n",
    "capa_salida = Dense(tam_alfabeto, activation='softmax')"
   ]
  },
  {
   "cell_type": "code",
   "execution_count": 9,
   "metadata": {},
   "outputs": [],
   "source": [
    "# Celda recurrente\n",
    "hs, _ = celdas_recurrentes(entrada, initial_state=a0)\n",
    "salida = []\n",
    "salida.append(capa_salida(hs))\n",
    "modelo = Model([entrada,a0], salida)\n",
    "\n",
    "# Optimizador\n",
    "opt = SGD(lr=0.05)\n",
    "modelo.compile(optimizer=opt, loss = 'categorical_crossentropy')"
   ]
  },
  {
   "cell_type": "code",
   "execution_count": 10,
   "metadata": {},
   "outputs": [],
   "source": [
    "# Generar una lista adicional con los nombres aleatorios de diccionarios\n",
    "with open('dinosaurios.txt') as f:\n",
    "    ejemplos = f.readlines()\n",
    "ejemplos = list(map( lambda x: x.replace(\"}\",\"\"), ejemplos))\n",
    "ejemplos = [x.lower().strip() for x in ejemplos]\n",
    "np.random.shuffle(ejemplos)"
   ]
  },
  {
   "cell_type": "code",
   "execution_count": 11,
   "metadata": {},
   "outputs": [],
   "source": [
    "# Una funcion que tome uno a uno cada ejemplo de entrenamiento y que genere 3 vectores de entrada\n",
    "def train_generator():\n",
    "    while True:\n",
    "        # Tomar un ejemplo aleatorio\n",
    "        ejemplo = ejemplos[np.random.randint(0,len(ejemplos))]\n",
    "\n",
    "        # Convertir el ejemplo a representación numérica\n",
    "        X = [None] + [car_a_ind[c] for c in ejemplo]\n",
    "\n",
    "        # Crear \"Y\", resultado de desplazar \"X\" un caracter a la derecha\n",
    "        Y = X[1:] + [car_a_ind['\\n']]\n",
    "\n",
    "        # Representar \"X\" y \"Y\" en formato one-hot\n",
    "        x = np.zeros((len(X),1,tam_alfabeto))\n",
    "        onehot = to_categorical(X[1:],tam_alfabeto).reshape(len(X)-1,1,tam_alfabeto)\n",
    "        x[1:,:,:] = onehot\n",
    "        y = to_categorical(Y,tam_alfabeto).reshape(len(X),tam_alfabeto)\n",
    "\n",
    "        # Activación inicial (matriz de ceros)\n",
    "        a = np.zeros((len(X), n_a))\n",
    "\n",
    "        yield [x, a], y\n"
   ]
  },
  {
   "cell_type": "code",
   "execution_count": null,
   "metadata": {},
   "outputs": [
    {
     "name": "stdout",
     "output_type": "stream",
     "text": [
      "\n",
      "Iteración: 0, Error: 3.133577\n",
      "\n"
     ]
    }
   ],
   "source": [
    "# 10.000 iteraciones cada una con 80 ejemplos\n",
    "BATCH_SIZE = 80\t\t\t# Número de ejemplos de entrenamiento a usar en cada iteración\n",
    "NITS = 10000\t\t\t# Número de iteraciones\n",
    "\n",
    "for j in range(NITS):\n",
    "    historia = modelo.fit_generator(train_generator(), steps_per_epoch=BATCH_SIZE, epochs=1, verbose=0)\n",
    "\n",
    "    # Imprimir evolución del entrenamiento cada 1000 iteraciones\n",
    "    if j%1000 == 0:\n",
    "        print('\\nIteración: %d, Error: %f' % (j, historia.history['loss'][0]) + '\\n')\n"
   ]
  },
  {
   "cell_type": "code",
   "execution_count": null,
   "metadata": {},
   "outputs": [],
   "source": [
    "# Generacion de nombres\n",
    "def generar_nombre(modelo, car_a_ind, tam_alfabeto,n_a):\n",
    "    # Para iniciar la predicción se iniciaran con celdas vacias\n",
    "    x = np.zeros((1,1,tam_alfabeto,))\n",
    "    a = np.zeros((1,n_a))\n",
    "    \n",
    "    nombre_generado = ''\n",
    "    fin_linea = '\\n'\n",
    "    car = -1\n",
    "    contador = 0\n",
    "    \n",
    "    while (car !=  fin_linea and contador != 50):\n",
    "        a,_ = celda_recurrente(K.constant(x), initial_state=K.constant(a))\n",
    "        # Crear las capas de salida con la prediccion de 27 elementos\n",
    "        y = capa_salida(a)\n",
    "        prediccion = K.eval(y)\n",
    "        \n",
    "        # Eleccion aleatoriamente una de las 27 predicciones\n",
    "        ix = np.random.choice(list(range(tam_alfabeto)), p=prediccion.ravel())\n",
    "        car = ind_a_car[ix]\n",
    "        nombre_generado += car\n",
    "        \n",
    "        x = to_categorical(ix, tam_alfabeto).reshape(1,1,tam_alfabeto)\n",
    "        a = K.eval(a)\n",
    "        \n",
    "        contador += 1\n",
    "        if (contador == 50):\n",
    "            nombre_generado += '\\n'\n",
    "    print(nombre_generado)"
   ]
  },
  {
   "cell_type": "code",
   "execution_count": null,
   "metadata": {},
   "outputs": [],
   "source": [
    "for i in range(100):\n",
    "    generar_nombre(modelo,car_a_ind, tam_alfabeto, n_a)"
   ]
  },
  {
   "cell_type": "code",
   "execution_count": null,
   "metadata": {},
   "outputs": [],
   "source": [
    "1"
   ]
  },
  {
   "cell_type": "code",
   "execution_count": null,
   "metadata": {},
   "outputs": [],
   "source": []
  }
 ],
 "metadata": {
  "kernelspec": {
   "display_name": "Python 3",
   "language": "python",
   "name": "python3"
  },
  "language_info": {
   "codemirror_mode": {
    "name": "ipython",
    "version": 3
   },
   "file_extension": ".py",
   "mimetype": "text/x-python",
   "name": "python",
   "nbconvert_exporter": "python",
   "pygments_lexer": "ipython3",
   "version": "3.7.4"
  }
 },
 "nbformat": 4,
 "nbformat_minor": 2
}
