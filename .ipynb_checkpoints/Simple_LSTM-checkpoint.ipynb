{
 "cells": [
  {
   "cell_type": "markdown",
   "metadata": {},
   "source": [
    "# LSTM\n",
    "En este ejercicio se visualizara el precio de la acción de Apple, y se utilizara LSTM para realizar una predicción en el futuro"
   ]
  },
  {
   "cell_type": "code",
   "execution_count": 8,
   "metadata": {},
   "outputs": [],
   "source": [
    "## Librerías\n",
    "\n",
    "import numpy as np\n",
    "import pandas as pd\n",
    "import matplotlib.pyplot as plt\n",
    "\n",
    "np.random.seed(4)\n",
    "from sklearn.preprocessing import MinMaxScaler\n",
    "from keras.models import Sequential\n",
    "from keras.layers import Dense, LSTM"
   ]
  },
  {
   "cell_type": "code",
   "execution_count": 9,
   "metadata": {},
   "outputs": [],
   "source": [
    "def graficar_predicciones(real, prediccion):\n",
    "    plt.plot(real[0:len(prediccion)],color='red', label='Valor real de la acción')\n",
    "    plt.plot(prediccion, color='blue', label='Predicción de la acción')\n",
    "    plt.ylim(1.1 * np.min(prediccion)/2, 1.1 * np.max(prediccion))\n",
    "    plt.xlabel('Tiempo')\n",
    "    plt.ylabel('Valor de la acción')\n",
    "    plt.legend()\n",
    "    plt.show()"
   ]
  },
  {
   "cell_type": "code",
   "execution_count": 10,
   "metadata": {},
   "outputs": [
    {
     "data": {
      "text/html": [
       "<div>\n",
       "<style scoped>\n",
       "    .dataframe tbody tr th:only-of-type {\n",
       "        vertical-align: middle;\n",
       "    }\n",
       "\n",
       "    .dataframe tbody tr th {\n",
       "        vertical-align: top;\n",
       "    }\n",
       "\n",
       "    .dataframe thead th {\n",
       "        text-align: right;\n",
       "    }\n",
       "</style>\n",
       "<table border=\"1\" class=\"dataframe\">\n",
       "  <thead>\n",
       "    <tr style=\"text-align: right;\">\n",
       "      <th></th>\n",
       "      <th>Open</th>\n",
       "      <th>High</th>\n",
       "      <th>Low</th>\n",
       "      <th>Close</th>\n",
       "      <th>Volume</th>\n",
       "      <th>Name</th>\n",
       "    </tr>\n",
       "    <tr>\n",
       "      <th>Date</th>\n",
       "      <th></th>\n",
       "      <th></th>\n",
       "      <th></th>\n",
       "      <th></th>\n",
       "      <th></th>\n",
       "      <th></th>\n",
       "    </tr>\n",
       "  </thead>\n",
       "  <tbody>\n",
       "    <tr>\n",
       "      <td>2006-01-03</td>\n",
       "      <td>10.34</td>\n",
       "      <td>10.68</td>\n",
       "      <td>10.32</td>\n",
       "      <td>10.68</td>\n",
       "      <td>201853036</td>\n",
       "      <td>AAPL</td>\n",
       "    </tr>\n",
       "    <tr>\n",
       "      <td>2006-01-04</td>\n",
       "      <td>10.73</td>\n",
       "      <td>10.85</td>\n",
       "      <td>10.64</td>\n",
       "      <td>10.71</td>\n",
       "      <td>155225609</td>\n",
       "      <td>AAPL</td>\n",
       "    </tr>\n",
       "    <tr>\n",
       "      <td>2006-01-05</td>\n",
       "      <td>10.69</td>\n",
       "      <td>10.70</td>\n",
       "      <td>10.54</td>\n",
       "      <td>10.63</td>\n",
       "      <td>112396081</td>\n",
       "      <td>AAPL</td>\n",
       "    </tr>\n",
       "    <tr>\n",
       "      <td>2006-01-06</td>\n",
       "      <td>10.75</td>\n",
       "      <td>10.96</td>\n",
       "      <td>10.65</td>\n",
       "      <td>10.90</td>\n",
       "      <td>176139334</td>\n",
       "      <td>AAPL</td>\n",
       "    </tr>\n",
       "    <tr>\n",
       "      <td>2006-01-09</td>\n",
       "      <td>10.96</td>\n",
       "      <td>11.03</td>\n",
       "      <td>10.82</td>\n",
       "      <td>10.86</td>\n",
       "      <td>168861224</td>\n",
       "      <td>AAPL</td>\n",
       "    </tr>\n",
       "  </tbody>\n",
       "</table>\n",
       "</div>"
      ],
      "text/plain": [
       "             Open   High    Low  Close     Volume  Name\n",
       "Date                                                   \n",
       "2006-01-03  10.34  10.68  10.32  10.68  201853036  AAPL\n",
       "2006-01-04  10.73  10.85  10.64  10.71  155225609  AAPL\n",
       "2006-01-05  10.69  10.70  10.54  10.63  112396081  AAPL\n",
       "2006-01-06  10.75  10.96  10.65  10.90  176139334  AAPL\n",
       "2006-01-09  10.96  11.03  10.82  10.86  168861224  AAPL"
      ]
     },
     "execution_count": 10,
     "metadata": {},
     "output_type": "execute_result"
    }
   ],
   "source": [
    "# Cargar información\n",
    "dataset = pd.read_csv('AAPL_2006-01-01_to_2018-01-01.csv', index_col='Date', parse_dates=['Date'])\n",
    "dataset.head()"
   ]
  },
  {
   "cell_type": "code",
   "execution_count": 11,
   "metadata": {},
   "outputs": [],
   "source": [
    "# División por un año (2016) de datos de entrenamiento y un año (2017) de validacion\n",
    "set_entrenamiento = dataset[:'2016'].iloc[:,1:2]\n",
    "set_validacion = dataset['2017':].iloc[:,1:2]"
   ]
  },
  {
   "cell_type": "code",
   "execution_count": 12,
   "metadata": {},
   "outputs": [
    {
     "data": {
      "image/png": "[encoded data removed]",
      "text/plain": [
       "<Figure size 432x288 with 1 Axes>"
      ]
     },
     "metadata": {
      "needs_background": "light"
     },
     "output_type": "display_data"
    }
   ],
   "source": [
    "set_entrenamiento['High'].plot(legend=True)\n",
    "set_validacion['High'].plot(legend=True)\n",
    "plt.legend(['Entrenamiento (2006-2016)', 'Validación (2017)'])\n",
    "plt.show()"
   ]
  },
  {
   "cell_type": "code",
   "execution_count": 13,
   "metadata": {},
   "outputs": [],
   "source": [
    "# Normalización de datos, para entrenamiento de LSTM\n",
    "sc = MinMaxScaler(feature_range=(0,1))\n",
    "set_entrenamiento_escalado =sc.fit_transform(set_entrenamiento)"
   ]
  },
  {
   "cell_type": "code",
   "execution_count": 14,
   "metadata": {},
   "outputs": [],
   "source": [
    "time_step = 60\n",
    "X_train = []\n",
    "Y_train = []\n",
    "m = len(set_entrenamiento_escalado)"
   ]
  },
  {
   "cell_type": "code",
   "execution_count": 15,
   "metadata": {},
   "outputs": [],
   "source": [
    "for i in range(time_step,m):\n",
    "    # X: bloques de \"time_step\" datos: 0-time_step, 1-time_step+1, 2-time_step+2, etc\n",
    "    X_train.append(set_entrenamiento_escalado[i-time_step:i,0])\n",
    "\n",
    "    # Y: el siguiente dato\n",
    "    Y_train.append(set_entrenamiento_escalado[i,0])\n",
    "X_train, Y_train = np.array(X_train), np.array(Y_train)"
   ]
  },
  {
   "cell_type": "code",
   "execution_count": 16,
   "metadata": {},
   "outputs": [],
   "source": [
    "X_train = np.reshape(X_train, (X_train.shape[0],X_train.shape[1],1))"
   ]
  },
  {
   "cell_type": "code",
   "execution_count": 17,
   "metadata": {},
   "outputs": [],
   "source": [
    "dim_entrada = (X_train.shape[1],1)\n",
    "dim_salida = 1\n",
    "na = 50"
   ]
  },
  {
   "cell_type": "markdown",
   "metadata": {},
   "source": [
    "## Modelación"
   ]
  },
  {
   "cell_type": "code",
   "execution_count": 18,
   "metadata": {},
   "outputs": [
    {
     "name": "stdout",
     "output_type": "stream",
     "text": [
      "Epoch 1/20\n",
      "2708/2708 [==============================] - 2s 857us/step - loss: 0.0044\n",
      "Epoch 2/20\n",
      "2708/2708 [==============================] - 2s 725us/step - loss: 6.7581e-04\n",
      "Epoch 3/20\n",
      "2708/2708 [==============================] - 2s 705us/step - loss: 4.6059e-04\n",
      "Epoch 4/20\n",
      "2708/2708 [==============================] - 2s 762us/step - loss: 3.9884e-04\n",
      "Epoch 5/20\n",
      "2708/2708 [==============================] - 2s 818us/step - loss: 3.7452e-04\n",
      "Epoch 6/20\n",
      "2708/2708 [==============================] - 2s 792us/step - loss: 3.1009e-04 0s - loss: 3.\n",
      "Epoch 7/20\n",
      "2708/2708 [==============================] - 2s 778us/step - loss: 2.9897e-04\n",
      "Epoch 8/20\n",
      "2708/2708 [==============================] - 2s 763us/step - loss: 2.5320e-04\n",
      "Epoch 9/20\n",
      "2708/2708 [==============================] - 2s 751us/step - loss: 2.5562e-04\n",
      "Epoch 10/20\n",
      "2708/2708 [==============================] - 2s 729us/step - loss: 2.3455e-04\n",
      "Epoch 11/20\n",
      "2708/2708 [==============================] - 2s 828us/step - loss: 2.3877e-04\n",
      "Epoch 12/20\n",
      "2708/2708 [==============================] - 2s 724us/step - loss: 2.1201e-04\n",
      "Epoch 13/20\n",
      "2708/2708 [==============================] - 2s 722us/step - loss: 1.9965e-04\n",
      "Epoch 14/20\n",
      "2708/2708 [==============================] - 2s 733us/step - loss: 2.0334e-04\n",
      "Epoch 15/20\n",
      "2708/2708 [==============================] - 2s 647us/step - loss: 1.9515e-04\n",
      "Epoch 16/20\n",
      "2708/2708 [==============================] - 2s 701us/step - loss: 1.6911e-04\n",
      "Epoch 17/20\n",
      "2708/2708 [==============================] - 2s 652us/step - loss: 1.9007e-04\n",
      "Epoch 18/20\n",
      "2708/2708 [==============================] - 2s 739us/step - loss: 1.7718e-04\n",
      "Epoch 19/20\n",
      "2708/2708 [==============================] - 2s 705us/step - loss: 1.8118e-04\n",
      "Epoch 20/20\n",
      "2708/2708 [==============================] - 2s 703us/step - loss: 1.6321e-04\n"
     ]
    },
    {
     "data": {
      "text/plain": [
       "<keras.callbacks.callbacks.History at 0x14fa15e50>"
      ]
     },
     "execution_count": 18,
     "metadata": {},
     "output_type": "execute_result"
    }
   ],
   "source": [
    "modelo = Sequential() # Contenedor de la red\n",
    "modelo.add(LSTM(units=na, input_shape = dim_entrada))\n",
    "modelo.add(Dense(units=dim_salida))\n",
    "modelo.compile(optimizer='rmsprop', loss='mse')\n",
    "modelo.fit(X_train,Y_train,epochs=20,batch_size=32)"
   ]
  },
  {
   "cell_type": "code",
   "execution_count": 21,
   "metadata": {},
   "outputs": [],
   "source": [
    "x_test =  set_validacion.values\n",
    "x_test = sc.transform(x_test)"
   ]
  },
  {
   "cell_type": "code",
   "execution_count": 22,
   "metadata": {},
   "outputs": [],
   "source": [
    "X_test = []\n",
    "for i in range(time_step,len(x_test)):\n",
    "    X_test.append(x_test[i-time_step:i,0])\n",
    "X_test = np.array(X_test)\n",
    "X_test = np.reshape(X_test, (X_test.shape[0],X_test.shape[1],1))"
   ]
  },
  {
   "cell_type": "code",
   "execution_count": 23,
   "metadata": {},
   "outputs": [],
   "source": [
    "prediccion = modelo.predict(X_test)\n",
    "prediccion = sc.inverse_transform(prediccion)"
   ]
  },
  {
   "cell_type": "code",
   "execution_count": 24,
   "metadata": {},
   "outputs": [
    {
     "data": {
      "image/png": "[encoded data removed]",
      "text/plain": [
       "<Figure size 432x288 with 1 Axes>"
      ]
     },
     "metadata": {
      "needs_background": "light"
     },
     "output_type": "display_data"
    }
   ],
   "source": [
    "graficar_predicciones(set_validacion.values,prediccion)"
   ]
  }
 ],
 "metadata": {
  "kernelspec": {
   "display_name": "Python 3",
   "language": "python",
   "name": "python3"
  },
  "language_info": {
   "codemirror_mode": {
    "name": "ipython",
    "version": 3
   },
   "file_extension": ".py",
   "mimetype": "text/x-python",
   "name": "python",
   "nbconvert_exporter": "python",
   "pygments_lexer": "ipython3",
   "version": "3.7.4"
  }
 },
 "nbformat": 4,
 "nbformat_minor": 2
}
